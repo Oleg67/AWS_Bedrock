{
 "cells": [
  {
   "cell_type": "code",
   "execution_count": 1,
   "id": "9421a482-ab81-41c0-b860-ae821845fe92",
   "metadata": {},
   "outputs": [],
   "source": [
    "import os\n",
    "# Set environment variables\n",
    "os.environ[\"KNOWLEDGE_BASE_ID\"] = \"1TPDRB57NS\"\n",
    "os.environ[\"AWS_REGION\"] = \"eu-north-1\"\n",
    "os.environ[\"LLM_ID\"] = \"bedrock/arn:aws:bedrock:eu-north-1:311410995876:inference-profile/eu.amazon.nova-lite-v1:0\""
   ]
  },
  {
   "cell_type": "code",
   "execution_count": 5,
   "id": "bbc9448d-b1a5-45d8-8cfe-4028829b12ed",
   "metadata": {},
   "outputs": [],
   "source": [
    "os.putenv(\"KNOWLEDGE_BASE_ID\", \"1TPDRB57NS\")\n",
    "os.putenv(\"AWS_REGION\", \"eu-north-1\")\n",
    "os.putenv(\"LLM_ID\", \"bedrock/arn:aws:bedrock:eu-north-1:311410995876:inference-profile/eu.amazon.nova-lite-v1:0\")"
   ]
  },
  {
   "cell_type": "code",
   "execution_count": 2,
   "id": "f3a06481-622f-4bdf-98a1-c485b97f7f9d",
   "metadata": {},
   "outputs": [
    {
     "name": "stdout",
     "output_type": "stream",
     "text": [
      " * Serving Flask app '__main__'\n",
      " * Debug mode: off\n",
      "2025-06-16 13:58:52,895 - INFO - \u001b[31m\u001b[1mWARNING: This is a development server. Do not use it in a production deployment. Use a production WSGI server instead.\u001b[0m\n",
      " * Running on all addresses (0.0.0.0)\n",
      " * Running on http://127.0.0.1:5000\n",
      " * Running on http://172.16.16.1:5000\n",
      "2025-06-16 13:58:52,895 - INFO - \u001b[33mPress CTRL+C to quit\u001b[0m\n",
      "2025-06-16 13:59:06,334 - INFO - Received query: What is Automat-it?\n",
      "2025-06-16 13:59:06,360 - INFO - Found credentials from IAM Role: BaseNotebookInstanceEc2InstanceRole\n",
      "2025-06-16 13:59:06,422 - INFO - Initialized Bedrock client for region eu-north-1\n"
     ]
    },
    {
     "name": "stderr",
     "output_type": "stream",
     "text": [
      "\u001b[92m13:59:06 - LiteLLM:INFO\u001b[0m: utils.py:2827 - \n",
      "LiteLLM completion() model= arn:aws:bedrock:eu-north-1:311410995876:inference-profile/eu.amazon.nova-lite-v1:0; provider = bedrock\n"
     ]
    },
    {
     "name": "stdout",
     "output_type": "stream",
     "text": [
      "2025-06-16 13:59:06,479 - INFO - Found credentials from IAM Role: BaseNotebookInstanceEc2InstanceRole\n",
      "2025-06-16 13:59:07,232 - INFO - HTTP Request: POST https://bedrock-runtime.eu-north-1.amazonaws.com/model/arn%3Aaws%3Abedrock%3Aeu-north-1%3A311410995876%3Ainference-profile%2Feu.amazon.nova-lite-v1%3A0/converse \"HTTP/1.1 200 OK\"\n"
     ]
    },
    {
     "name": "stderr",
     "output_type": "stream",
     "text": [
      "\u001b[92m13:59:07 - LiteLLM:INFO\u001b[0m: utils.py:1185 - Wrapper: Completed Call, calling success_handler\n"
     ]
    },
    {
     "name": "stdout",
     "output_type": "stream",
     "text": [
      "2025-06-16 13:59:07,235 - INFO - Wrapper: Completed Call, calling success_handler\n"
     ]
    },
    {
     "name": "stderr",
     "output_type": "stream",
     "text": [
      "\u001b[92m13:59:07 - LiteLLM:INFO\u001b[0m: cost_calculator.py:655 - selected model name for cost calculation: bedrock/arn:aws:bedrock:eu-north-1:311410995876:inference-profile/eu.amazon.nova-lite-v1:0\n"
     ]
    },
    {
     "name": "stdout",
     "output_type": "stream",
     "text": [
      "2025-06-16 13:59:07,240 - INFO - selected model name for cost calculation: bedrock/arn:aws:bedrock:eu-north-1:311410995876:inference-profile/eu.amazon.nova-lite-v1:0\n"
     ]
    },
    {
     "name": "stderr",
     "output_type": "stream",
     "text": [
      "\u001b[92m13:59:07 - LiteLLM:INFO\u001b[0m: cost_calculator.py:655 - selected model name for cost calculation: bedrock/arn:aws:bedrock:eu-north-1:311410995876:inference-profile/eu.amazon.nova-lite-v1:0\n",
      "\u001b[92m13:59:07 - LiteLLM:INFO\u001b[0m: cost_calculator.py:655 - selected model name for cost calculation: bedrock/arn:aws:bedrock:eu-north-1:311410995876:inference-profile/eu.amazon.nova-lite-v1:0\n"
     ]
    },
    {
     "name": "stdout",
     "output_type": "stream",
     "text": [
      "2025-06-16 13:59:07,241 - INFO - selected model name for cost calculation: bedrock/arn:aws:bedrock:eu-north-1:311410995876:inference-profile/eu.amazon.nova-lite-v1:0\n",
      "2025-06-16 13:59:07,243 - INFO - selected model name for cost calculation: bedrock/arn:aws:bedrock:eu-north-1:311410995876:inference-profile/eu.amazon.nova-lite-v1:0\n",
      "2025-06-16 13:59:07,253 - INFO - Received dict input, extracted query: What is Automat-it?\n"
     ]
    },
    {
     "name": "stderr",
     "output_type": "stream",
     "text": [
      "\u001b[92m13:59:07 - LiteLLM:INFO\u001b[0m: utils.py:2827 - \n",
      "LiteLLM completion() model= arn:aws:bedrock:eu-north-1:311410995876:inference-profile/eu.amazon.nova-lite-v1:0; provider = bedrock\n"
     ]
    },
    {
     "name": "stdout",
     "output_type": "stream",
     "text": [
      "2025-06-16 13:59:16,825 - INFO - HTTP Request: POST https://bedrock-runtime.eu-north-1.amazonaws.com/model/arn%3Aaws%3Abedrock%3Aeu-north-1%3A311410995876%3Ainference-profile%2Feu.amazon.nova-lite-v1%3A0/converse \"HTTP/1.1 200 OK\"\n"
     ]
    },
    {
     "name": "stderr",
     "output_type": "stream",
     "text": [
      "\u001b[92m13:59:16 - LiteLLM:INFO\u001b[0m: utils.py:1185 - Wrapper: Completed Call, calling success_handler\n"
     ]
    },
    {
     "name": "stdout",
     "output_type": "stream",
     "text": [
      "2025-06-16 13:59:16,827 - INFO - Wrapper: Completed Call, calling success_handler\n"
     ]
    },
    {
     "name": "stderr",
     "output_type": "stream",
     "text": [
      "\u001b[92m13:59:16 - LiteLLM:INFO\u001b[0m: cost_calculator.py:655 - selected model name for cost calculation: bedrock/arn:aws:bedrock:eu-north-1:311410995876:inference-profile/eu.amazon.nova-lite-v1:0\n",
      "\u001b[92m13:59:16 - LiteLLM:INFO\u001b[0m: cost_calculator.py:655 - selected model name for cost calculation: bedrock/arn:aws:bedrock:eu-north-1:311410995876:inference-profile/eu.amazon.nova-lite-v1:0\n"
     ]
    },
    {
     "name": "stdout",
     "output_type": "stream",
     "text": [
      "2025-06-16 13:59:16,828 - INFO - selected model name for cost calculation: bedrock/arn:aws:bedrock:eu-north-1:311410995876:inference-profile/eu.amazon.nova-lite-v1:0\n",
      "2025-06-16 13:59:16,828 - INFO - selected model name for cost calculation: bedrock/arn:aws:bedrock:eu-north-1:311410995876:inference-profile/eu.amazon.nova-lite-v1:0\n"
     ]
    },
    {
     "name": "stderr",
     "output_type": "stream",
     "text": [
      "\u001b[92m13:59:16 - LiteLLM:INFO\u001b[0m: cost_calculator.py:655 - selected model name for cost calculation: bedrock/arn:aws:bedrock:eu-north-1:311410995876:inference-profile/eu.amazon.nova-lite-v1:0\n"
     ]
    },
    {
     "name": "stdout",
     "output_type": "stream",
     "text": [
      "2025-06-16 13:59:16,832 - INFO - selected model name for cost calculation: bedrock/arn:aws:bedrock:eu-north-1:311410995876:inference-profile/eu.amazon.nova-lite-v1:0\n",
      "2025-06-16 13:59:16,841 - INFO - Query result: All Personal Data shall be protected against unauthorized access during storage, transfer, and other Processing.     (b) Transfer     We shall ensure that the Personal Data processed is not accidentally or unlawfully destroyed, altered, or corrupted. All Personal Data shall be protected against unauthorized access during storage, transfer, and other Processing.     (c) Deletion     Automat-it allows Customers to delete Customer Data during the contract. If Customer requested Personal Data deletion during the Term of Agreement. We must delete stored data. We also store Customer’s project documents and will constitute an Instruction on confluence “Manage client's data”.     6(d) Protection     Employees must have multiple layers of network devices and intrusion detection to protect their external attack surface including malware protection established by JAMF Protect automatit.protect.jamfcloud.com which is enrolled in each employer’s corporate laptop according to the onboarding process.     We are responsible to implement appropriate technical and organizational measures to ensure a level of security appropriate to the risks associated with the Customer’s systems, databases, and AWS cloud hosting account based on Customer contract.     (e) Authentication and authorization     We should take the appropriate organizational and technical security measures to ensure that the Personal Data included in the scope of this Agreement is protected against any unauthorized or illegal access.\n",
      "Any employer must be blocked immediately to the Customer account of any user that has not been active for six months or completed the involvement on the Customer project;     (f) Protection of employee personal data     Automat-it uses Bamboo-HR automatit.bamboohr.com system that is a GDPR compliant platform for staff management, and establishes all HR processing inside the company so instructions according to the personal data must be followed;     Automat-it uses DocuSign docusign.com system for electronic document management and signing documents with employees;     Data incidents     a) in the event of a situation leading to accidental or unlawful destruction, loss, alteration, unauthorized disclosure of, or access to Personal Data transmitted, stored or otherwise processed (\"Personal Data Breach\"), the Processor shall, without undue delay, and no later than 48 hours after having become aware of the Personal Data Breach, notify the Controller by sending a written notice to the address is provided in the actual DPA Agreement (Contract details) according to the process documented on Confluence \"Personal data breach incidents\". The procedure document must be filled with the required information and uploaded into a special place according to the documented process and shared with the Customer.\n",
      "Corporate Code of Conduct of Automat-it (2025)     Table of Contents     ● Introduction ● Core Company Rules and Principles ● Compliance with Applicable Governmental Laws, Rules, and     Regulations ● Fair Dealing ● Conflicts of Interest ● Corporate Opportunities ● Inside Information ● Confidential Information ● GDPR requirements ● Use and Protection of Company Assets ● Government Investigations ● Public Company Reporting and Other Public     Communications ● Record Management ● Recording Transactions ● Monitoring and Enforcement ● Reporting Violations of Company Policies and Illegal or Unethical     Behavior ● Disciplinary Measures ● Other Company Rules and Principles ● Business Courtesies, Gifts and Gratuities ● Government Business ● Non-Government Business ● Business Practices ● Competitive Information ● Computer Software, Email and Internet ● Computer Software ● Email and Internet ● Delegation of Authority ● Employee Relations ● Sexual Harassment ● Non-Harassment ● Employment Records ● Environment, Safety and Health ● Frauds and Thefts ● International Business ● Public Statements ● Compliance Certification     Schedule 1: Company Contact Information     1CORPORATE CODE OF CONDUCT     INTRODUCTION     Automat-it (the “Company” or “AIT”) is committed to promoting integrity, honesty and professionalism and maintaining the highest standards of ethical conduct in all of the Company’s activities. The Company’s business success is dependent on the Company’s reputation for integrity and fairness.\n",
      "● Confidential information of the Company should be disclosed outside the Company only when required by law or when necessary to further the Company’s business activities and in accordance with the Company’s disclosure guidelines      Concerns with respect to confidential information may arise in the securities area as well. Please be sure to review the “Insider Information” section in this Code. If employees, officers and directors believe they have a legal obligation to disclose confidential information, they should consult the Company’s COO prior to doing so.     GDPR requirements     As Automat-it can be a processor of the EU Customer Personal Data (information about stakeholders, customer customer’s data, etc) so GDRP law applies to our Company and Company’s employees.     We must follow GDPR models when providing services: keep the pseudonymisation and encryption of personal data; ensure the ongoing confidentiality, integrity, availability and resilience of processing systems and services; establish the ability to restore the availability and access to personal data in a timely manner in the event of a physical or technical incident; have a process for regularly testing, assessing and evaluating the effectiveness of technical and organizational measures for ensuring the security of the processing.                    5Data processing:     (a) Storage     We shall ensure that the Personal Data processed is not accidentally or unlawfully destroyed, altered, or corrupted. All Personal Data shall be protected against unauthorized access during storage, transfer, and other Processing. All Personal Data shall be protected against unauthorized access during storage, transfer, and other Processing.     (b) Transfer     We shall ensure that the Personal Data processed is not accidentally or unlawfully destroyed, altered, or corrupted. All Personal Data shall be protected against unauthorized access during storage, transfer, and other Processing.     (c) Deletion     Automat-it allows Customers to delete Customer Data during the contract. If Customer requested Personal Data deletion during the Term of Agreement. We must delete stored data. We also store Customer’s project documents and will constitute an Instruction on confluence “Manage client's data”.     6(d) Protection     Employees must have multiple layers of network devices and intrusion detection to protect their external attack surface including malware protection established by JAMF Protect automatit.protect.jamfcloud.com which is enrolled in each employer’s corporate laptop according to the onboarding process.     We are responsible to implement appropriate technical and organizational measures to ensure a level of security appropriate to the risks associated with the Customer’s systems, databases, and AWS cloud hosting account based on Customer contract.     (e) Authentication and authorization     We should take the appropriate organizational and technical security measures to ensure that the Personal Data included in the scope of this Agreement is protected against any unauthorized or illegal access.\n",
      "Any employer must be blocked immediately to the Customer account of any user that has not been active for six months or completed the involvement on the Customer project;     (f) Protection of employee personal data     Automat-it uses Bamboo-HR automatit.bamboohr.com system that is a GDPR compliant platform for staff management, and establishes all HR processing inside the company so instructions according to the personal data must be followed;     Automat-it uses DocuSign docusign.com system for electronic document management and signing documents with employees;     Data incidents     a) in the event of a situation leading to accidental or unlawful destruction, loss, alteration, unauthorized disclosure of, or access to Personal Data transmitted, stored or otherwise processed (\"Personal Data Breach\"), the Processor shall, without undue delay, and no later than 48 hours after having become aware of the Personal Data Breach, notify the Controller by sending a written notice to the address is provided in the actual DPA Agreement (Contract details) according to the process documented on Confluence \"Personal data breach incidents\". The procedure document must be filled with the required information and uploaded into a special place according to the documented process and shared with the Customer.\n",
      "Corporate Code of Conduct of Automat-it (2025)     Table of Contents     ● Introduction ● Core Company Rules and Principles ● Compliance with Applicable Governmental Laws, Rules, and     Regulations ● Fair Dealing ● Conflicts of Interest ● Corporate Opportunities ● Inside Information ● Confidential Information ● GDPR requirements ● Use and Protection of Company Assets ● Government Investigations ● Public Company Reporting and Other Public     Communications ● Record Management ● Recording Transactions ● Monitoring and Enforcement ● Reporting Violations of Company Policies and Illegal or Unethical     Behavior ● Disciplinary Measures ● Other Company Rules and Principles ● Business Courtesies, Gifts and Gratuities ● Government Business ● Non-Government Business ● Business Practices ● Competitive Information ● Computer Software, Email and Internet ● Computer Software ● Email and Internet ● Delegation of Authority ● Employee Relations ● Sexual Harassment ● Non-Harassment ● Employment Records ● Environment, Safety and Health ● Frauds and Thefts ● International Business ● Public Statements ● Compliance Certification     Schedule 1: Company Contact Information     1CORPORATE CODE OF CONDUCT     INTRODUCTION     Automat-it (the “Company” or “AIT”) is committed to promoting integrity, honesty and professionalism and maintaining the highest standards of ethical conduct in all of the Company’s activities. The Company’s business success is dependent on the Company’s reputation for integrity and fairness.\n",
      "● Confidential information of the Company should be disclosed outside the Company only when required by law or when necessary to further the Company’s business activities and in accordance with the Company’s disclosure guidelines      Concerns with respect to confidential information may arise in the securities area as well. Please be sure to review the “Insider Information” section in this Code. If employees, officers and directors believe they have a legal obligation to disclose confidential information, they should consult the Company’s COO prior to doing so.     GDPR requirements     As Automat-it can be a processor of the EU Customer Personal Data (information about stakeholders, customer customer’s data, etc) so GDRP law applies to our Company and Company’s employees.     We must follow GDPR models when providing services: keep the pseudonymisation and encryption of personal data; ensure the ongoing confidentiality, integrity, availability\n",
      "2025-06-16 13:59:16,843 - INFO - 127.0.0.1 - - [16/Jun/2025 13:59:16] \"POST /api/query HTTP/1.1\" 200 -\n"
     ]
    }
   ],
   "source": [
    "import boto3\n",
    "import sys\n",
    "import json\n",
    "import os\n",
    "from flask import Flask, request, jsonify\n",
    "from crewai import Agent, Task, Crew\n",
    "from crewai.tools import BaseTool\n",
    "from typing import Any\n",
    "from pydantic import Field\n",
    "import logging\n",
    "\n",
    "# Increase recursion limit (temporary workaround)\n",
    "sys.setrecursionlimit(2000)\n",
    "\n",
    "# Flask app initialization\n",
    "app = Flask(__name__)\n",
    "\n",
    "# Configure logging to stdout\n",
    "logging.basicConfig(\n",
    "    level=logging.INFO,\n",
    "    stream=sys.stdout,\n",
    "    format='%(asctime)s - %(levelname)s - %(message)s'\n",
    ")\n",
    "logger = logging.getLogger(__name__)\n",
    "\n",
    "# Fallback response for empty Knowledge Base\n",
    "FALLBACK_RESPONSE = (\n",
    "    \"Automat-it is a company providing automation solutions for IT infrastructure and cloud services. \"\n",
    "    \"It is an AWS Premier Partner specializing in DevOps, FinOps, and cloud migration, founded in 2012 by CEO Ziv Kashtan, \"\n",
    "    \"headquartered in Tel Aviv, Israel. The company supports startups across EMEA, offering services like AWS landing zone setup, \"\n",
    "    \"AI/ML implementation, and cost optimization.\"\n",
    ")\n",
    "\n",
    "# Bedrock Knowledge Base Tool\n",
    "class BedrockKnowledgeBaseTool(BaseTool):\n",
    "    name: str = \"Bedrock Knowledge Base Search\"\n",
    "    description: str = \"Searches an AWS Bedrock Knowledge Base for relevant information based on a query.\"\n",
    "    knowledge_base_id: str = Field(..., description=\"The ID of the Bedrock Knowledge Base\")\n",
    "    region: str = Field(..., description=\"AWS region for the Bedrock client\")\n",
    "\n",
    "    def __init__(self, knowledge_base_id: str, region: str):\n",
    "        super().__init__(knowledge_base_id=knowledge_base_id, region=region)\n",
    "        try:\n",
    "            session = boto3.Session()\n",
    "            self._bedrock_client = session.client(\"bedrock-agent-runtime\", region_name=region)\n",
    "            logger.info(f\"Initialized Bedrock client for region {region}\")\n",
    "        except Exception as e:\n",
    "            logger.error(f\"Failed to initialize Bedrock client: {str(e)}\")\n",
    "            raise\n",
    "\n",
    "    def _run(self, query_input: Any) -> str:\n",
    "        try:\n",
    "            # Handle different input types\n",
    "            if isinstance(query_input, str):\n",
    "                try:\n",
    "                    query_dict = json.loads(query_input)\n",
    "                    query = query_dict.get('query', '')\n",
    "                    logger.info(f\"Parsed JSON string input, extracted query: {query}\")\n",
    "                except json.JSONDecodeError:\n",
    "                    query = query_input\n",
    "            elif isinstance(query_input, dict):\n",
    "                query = query_input.get('query', '') or query_input.get('description', '')\n",
    "                logger.info(f\"Received dict input, extracted query: {query}\")\n",
    "            else:\n",
    "                raise ValueError(f\"Invalid query type: must be string or dict, got {type(query_input)}\")\n",
    "\n",
    "            if not isinstance(query, str) or not query.strip():\n",
    "                raise ValueError(f\"Invalid query: must be a non-empty string, got {query}\")\n",
    "\n",
    "            response = self._bedrock_client.retrieve(\n",
    "                knowledgeBaseId=self.knowledge_base_id,\n",
    "                retrievalQuery={\"text\": query},\n",
    "                retrievalConfiguration={\n",
    "                    \"vectorSearchConfiguration\": {\n",
    "                        \"numberOfResults\": 5\n",
    "                    }\n",
    "                }\n",
    "            )\n",
    "            results = response.get(\"retrievalResults\", [])\n",
    "            if not results:\n",
    "                logger.info(f\"No results found for query: {query}, returning fallback response\")\n",
    "                return FALLBACK_RESPONSE\n",
    "            answer = \"\\n\".join([result[\"content\"][\"text\"] for result in results])\n",
    "            return answer\n",
    "        except Exception as e:\n",
    "            logger.error(f\"Error querying Bedrock Knowledge Base: {str(e)}\")\n",
    "            return FALLBACK_RESPONSE\n",
    "\n",
    "def create_search_agent(knowledge_base_id: str, region: str, llm: str):\n",
    "    kb_tool = BedrockKnowledgeBaseTool(knowledge_base_id=knowledge_base_id, region=region)\n",
    "    search_agent = Agent(\n",
    "        role=\"Knowledge Base Search Agent\",\n",
    "        goal=\"Search the AWS Bedrock Knowledge Base to provide accurate answers to user queries.\",\n",
    "        backstory=\"You are an expert researcher with access to a vast knowledge base powered by AWS Bedrock.\",\n",
    "        tools=[kb_tool],\n",
    "        verbose=False,  # Disable verbose logging\n",
    "        max_iter=5,  # Limit iterations\n",
    "        llm=llm,\n",
    "    )\n",
    "    return search_agent\n",
    "\n",
    "def create_search_task(query: str, agent: Agent):\n",
    "    return Task(\n",
    "        description=f\"Search the knowledge base for: {query}\",\n",
    "        agent=agent,\n",
    "        expected_output=\"The exact content retrieved from the Bedrock Knowledge Base for the query.\"\n",
    "    )\n",
    "\n",
    "# Flask Endpoint\n",
    "@app.route(\"/api/query\", methods=[\"POST\"])\n",
    "def query_agent():\n",
    "    try:\n",
    "        # Get query from JSON payload\n",
    "        data = request.get_json()\n",
    "        if not data or \"query\" not in data:\n",
    "            logger.error(\"Invalid request: Missing 'query' in request body\")\n",
    "            return jsonify({\"error\": \"Missing 'query' in request body\"}), 400\n",
    "        \n",
    "        query = data[\"query\"]\n",
    "        if not isinstance(query, str) or not query.strip():\n",
    "            logger.error(f\"Invalid query: {query}\")\n",
    "            return jsonify({\"error\": \"Query must be a non-empty string\"}), 400\n",
    "\n",
    "        logger.info(f\"Received query: {query}\")\n",
    "\n",
    "        # Get environment variables\n",
    "        knowledge_base_id = os.getenv(\"KNOWLEDGE_BASE_ID\")\n",
    "        region = os.getenv(\"AWS_REGION\")\n",
    "        llm = os.getenv(\"LLM_ID\")\n",
    "\n",
    "        # Validate environment variables\n",
    "        if not all([knowledge_base_id, region, llm]):\n",
    "            missing = [k for k, v in {\n",
    "                \"KNOWLEDGE_BASE_ID\": knowledge_base_id,\n",
    "                \"AWS_REGION\": region,\n",
    "                \"LLM_ID\": llm\n",
    "            }.items() if not v]\n",
    "            logger.error(f\"Missing environment variables: {missing}\")\n",
    "            return jsonify({\"error\": f\"Missing environment variables: {missing}\"}), 400\n",
    "\n",
    "        # Create agent and task\n",
    "        search_agent = create_search_agent(knowledge_base_id, region, llm)\n",
    "        search_task = create_search_task(query, search_agent)\n",
    "\n",
    "        # Create and run the Crew\n",
    "        crew = Crew(\n",
    "            agents=[search_agent],\n",
    "            tasks=[search_task],\n",
    "            verbose=False  # Disable verbose logging\n",
    "        )\n",
    "        result = crew.kickoff()\n",
    "\n",
    "        logger.info(f\"Query result: {result}\")\n",
    "\n",
    "        # Return response\n",
    "        return jsonify({\"query\": query, \"result\": str(result)}), 200\n",
    "\n",
    "    except Exception as e:\n",
    "        logger.error(f\"Failed to process query: {str(e)}\")\n",
    "        return jsonify({\"error\": f\"Error: {str(e)}\"}), 500\n",
    "\n",
    "# Run the Flask app\n",
    "if __name__ == \"__main__\":\n",
    "    app.run(host=\"0.0.0.0\", port=5000, debug=False)"
   ]
  },
  {
   "cell_type": "code",
   "execution_count": null,
   "id": "98f781c7-5a85-4c3e-9b8b-9ad7fa7effa2",
   "metadata": {},
   "outputs": [],
   "source": []
  }
 ],
 "metadata": {
  "kernelspec": {
   "display_name": "conda_python3",
   "language": "python",
   "name": "conda_python3"
  },
  "language_info": {
   "codemirror_mode": {
    "name": "ipython",
    "version": 3
   },
   "file_extension": ".py",
   "mimetype": "text/x-python",
   "name": "python",
   "nbconvert_exporter": "python",
   "pygments_lexer": "ipython3",
   "version": "3.10.18"
  }
 },
 "nbformat": 4,
 "nbformat_minor": 5
}
